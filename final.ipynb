{
 "cells": [
  {
   "cell_type": "code",
   "execution_count": 28,
   "metadata": {},
   "outputs": [],
   "source": [
    "client_id = \"86ac0958ab204b55bf2159768e863ea8\"\n",
    "client_secret = \"e99322bd21d2460a94f3401976022220\""
   ]
  },
  {
   "cell_type": "code",
   "execution_count": 29,
   "metadata": {},
   "outputs": [],
   "source": [
    "import spotipy\n",
    "import requests\n",
    "import matplotlib \n",
    "from spotipy.oauth2 import SpotifyOAuth"
   ]
  },
  {
   "cell_type": "code",
   "execution_count": 30,
   "metadata": {},
   "outputs": [],
   "source": [
    "\n",
    "\n",
    "scope = 'user-read-recently-played'\n",
    "\n",
    "sp = spotipy.Spotify(auth_manager=SpotifyOAuth(client_id=client_id, client_secret=client_secret, redirect_uri = \"http://localhost:8888/callback\", scope=scope, show_dialog = True ))\n",
    "\n"
   ]
  },
  {
   "cell_type": "code",
   "execution_count": 31,
   "metadata": {},
   "outputs": [],
   "source": [
    "#limit = number of tracks it will return, after = is a timestamp in miliseconds(basically songs played '9-5' but we give the time in unix), before = same but before. CANNOT USE BEFORE AND AFTER AT THE SAME TIME\n",
    "recent = sp.current_user_recently_played(limit=5, after=None, before=None)\n"
   ]
  },
  {
   "cell_type": "code",
   "execution_count": 32,
   "metadata": {},
   "outputs": [
    {
     "name": "stdout",
     "output_type": "stream",
     "text": [
      "{'items': [{'track': {'album': {'album_type': 'album', 'artists': [{'external_urls': {'spotify': 'https://open.spotify.com/artist/7vWlb4pM85jCHvV771qZZW'}, 'href': 'https://api.spotify.com/v1/artists/7vWlb4pM85jCHvV771qZZW', 'id': '7vWlb4pM85jCHvV771qZZW', 'name': 'Tony! Toni! Toné!', 'type': 'artist', 'uri': 'spotify:artist:7vWlb4pM85jCHvV771qZZW'}], 'available_markets': ['AR', 'AU', 'AT', 'BE', 'BO', 'BR', 'BG', 'CA', 'CL', 'CO', 'CR', 'CY', 'CZ', 'DK', 'DO', 'DE', 'EC', 'EE', 'SV', 'FI', 'FR', 'GR', 'GT', 'HN', 'HK', 'HU', 'IS', 'IE', 'IT', 'LV', 'LT', 'LU', 'MY', 'MT', 'MX', 'NL', 'NZ', 'NI', 'NO', 'PA', 'PY', 'PE', 'PH', 'PL', 'PT', 'SG', 'SK', 'ES', 'SE', 'CH', 'TW', 'TR', 'UY', 'US', 'GB', 'AD', 'LI', 'MC', 'ID', 'JP', 'TH', 'VN', 'RO', 'IL', 'ZA', 'SA', 'AE', 'BH', 'QA', 'OM', 'KW', 'EG', 'MA', 'DZ', 'TN', 'LB', 'JO', 'PS', 'IN', 'BY', 'KZ', 'MD', 'UA', 'AL', 'BA', 'HR', 'ME', 'MK', 'RS', 'SI', 'KR', 'BD', 'PK', 'LK', 'GH', 'KE', 'NG', 'TZ', 'UG', 'AG', 'AM', 'BS', 'BB', 'BZ', 'BT', 'BW', 'BF', 'CV', 'CW', 'DM', 'FJ', 'GM', 'GE', 'GD', 'GW', 'GY', 'HT', 'JM', 'KI', 'LS', 'LR', 'MW', 'MV', 'ML', 'MH', 'FM', 'NA', 'NR', 'NE', 'PW', 'PG', 'WS', 'SM', 'ST', 'SN', 'SC', 'SL', 'SB', 'KN', 'LC', 'VC', 'SR', 'TL', 'TO', 'TT', 'TV', 'VU', 'AZ', 'BN', 'BI', 'KH', 'CM', 'TD', 'KM', 'GQ', 'SZ', 'GA', 'GN', 'KG', 'LA', 'MO', 'MR', 'MN', 'NP', 'RW', 'TG', 'UZ', 'ZW', 'BJ', 'MG', 'MU', 'MZ', 'AO', 'CI', 'DJ', 'ZM', 'CD', 'CG', 'IQ', 'LY', 'TJ', 'VE', 'ET', 'XK'], 'external_urls': {'spotify': 'https://open.spotify.com/album/5yORmYtkTZdFgo6ppcsFZT'}, 'href': 'https://api.spotify.com/v1/albums/5yORmYtkTZdFgo6ppcsFZT', 'id': '5yORmYtkTZdFgo6ppcsFZT', 'images': [{'height': 640, 'url': 'https://i.scdn.co/image/ab67616d0000b2737d0fa81881e9313e77463eaa', 'width': 640}, {'height': 300, 'url': 'https://i.scdn.co/image/ab67616d00001e027d0fa81881e9313e77463eaa', 'width': 300}, {'height': 64, 'url': 'https://i.scdn.co/image/ab67616d000048517d0fa81881e9313e77463eaa', 'width': 64}], 'name': 'The Revival', 'release_date': '1990-01-01', 'release_date_precision': 'day', 'total_tracks': 14, 'type': 'album', 'uri': 'spotify:album:5yORmYtkTZdFgo6ppcsFZT'}, 'artists': [{'external_urls': {'spotify': 'https://open.spotify.com/artist/7vWlb4pM85jCHvV771qZZW'}, 'href': 'https://api.spotify.com/v1/artists/7vWlb4pM85jCHvV771qZZW', 'id': '7vWlb4pM85jCHvV771qZZW', 'name': 'Tony! Toni! Toné!', 'type': 'artist', 'uri': 'spotify:artist:7vWlb4pM85jCHvV771qZZW'}], 'available_markets': ['AR', 'AU', 'AT', 'BE', 'BO', 'BR', 'BG', 'CA', 'CL', 'CO', 'CR', 'CY', 'CZ', 'DK', 'DO', 'DE', 'EC', 'EE', 'SV', 'FI', 'FR', 'GR', 'GT', 'HN', 'HK', 'HU', 'IS', 'IE', 'IT', 'LV', 'LT', 'LU', 'MY', 'MT', 'MX', 'NL', 'NZ', 'NI', 'NO', 'PA', 'PY', 'PE', 'PH', 'PL', 'PT', 'SG', 'SK', 'ES', 'SE', 'CH', 'TW', 'TR', 'UY', 'US', 'GB', 'AD', 'LI', 'MC', 'ID', 'JP', 'TH', 'VN', 'RO', 'IL', 'ZA', 'SA', 'AE', 'BH', 'QA', 'OM', 'KW', 'EG', 'MA', 'DZ', 'TN', 'LB', 'JO', 'PS', 'IN', 'BY', 'KZ', 'MD', 'UA', 'AL', 'BA', 'HR', 'ME', 'MK', 'RS', 'SI', 'KR', 'BD', 'PK', 'LK', 'GH', 'KE', 'NG', 'TZ', 'UG', 'AG', 'AM', 'BS', 'BB', 'BZ', 'BT', 'BW', 'BF', 'CV', 'CW', 'DM', 'FJ', 'GM', 'GE', 'GD', 'GW', 'GY', 'HT', 'JM', 'KI', 'LS', 'LR', 'MW', 'MV', 'ML', 'MH', 'FM', 'NA', 'NR', 'NE', 'PW', 'PG', 'WS', 'SM', 'ST', 'SN', 'SC', 'SL', 'SB', 'KN', 'LC', 'VC', 'SR', 'TL', 'TO', 'TT', 'TV', 'VU', 'AZ', 'BN', 'BI', 'KH', 'CM', 'TD', 'KM', 'GQ', 'SZ', 'GA', 'GN', 'KG', 'LA', 'MO', 'MR', 'MN', 'NP', 'RW', 'TG', 'UZ', 'ZW', 'BJ', 'MG', 'MU', 'MZ', 'AO', 'CI', 'DJ', 'ZM', 'CD', 'CG', 'IQ', 'LY', 'TJ', 'VE', 'ET', 'XK'], 'disc_number': 1, 'duration_ms': 298373, 'explicit': False, 'external_ids': {'isrc': 'USMR19087280'}, 'external_urls': {'spotify': 'https://open.spotify.com/track/4cRR2gUTOerkUOW5iZpm91'}, 'href': 'https://api.spotify.com/v1/tracks/4cRR2gUTOerkUOW5iZpm91', 'id': '4cRR2gUTOerkUOW5iZpm91', 'is_local': False, 'name': 'Feels Good', 'popularity': 52, 'preview_url': None, 'track_number': 1, 'type': 'track', 'uri': 'spotify:track:4cRR2gUTOerkUOW5iZpm91'}, 'played_at': '2024-11-26T20:59:24.669Z', 'context': {'type': 'artist', 'external_urls': {'spotify': 'https://open.spotify.com/artist/7vWlb4pM85jCHvV771qZZW'}, 'href': 'https://api.spotify.com/v1/artists/7vWlb4pM85jCHvV771qZZW', 'uri': 'spotify:artist:7vWlb4pM85jCHvV771qZZW'}}, {'track': {'album': {'album_type': 'album', 'artists': [{'external_urls': {'spotify': 'https://open.spotify.com/artist/7vWlb4pM85jCHvV771qZZW'}, 'href': 'https://api.spotify.com/v1/artists/7vWlb4pM85jCHvV771qZZW', 'id': '7vWlb4pM85jCHvV771qZZW', 'name': 'Tony! Toni! Toné!', 'type': 'artist', 'uri': 'spotify:artist:7vWlb4pM85jCHvV771qZZW'}], 'available_markets': ['AR', 'AU', 'AT', 'BE', 'BO', 'BR', 'BG', 'CA', 'CL', 'CO', 'CR', 'CY', 'CZ', 'DK', 'DO', 'DE', 'EC', 'EE', 'SV', 'FI', 'FR', 'GR', 'GT', 'HN', 'HK', 'HU', 'IS', 'IE', 'IT', 'LV', 'LT', 'LU', 'MY', 'MT', 'MX', 'NL', 'NZ', 'NI', 'NO', 'PA', 'PY', 'PE', 'PH', 'PL', 'PT', 'SG', 'SK', 'ES', 'SE', 'CH', 'TW', 'TR', 'UY', 'US', 'GB', 'AD', 'LI', 'MC', 'ID', 'JP', 'TH', 'VN', 'RO', 'IL', 'ZA', 'SA', 'AE', 'BH', 'QA', 'OM', 'KW', 'EG', 'MA', 'DZ', 'TN', 'LB', 'JO', 'PS', 'IN', 'BY', 'KZ', 'MD', 'UA', 'AL', 'BA', 'HR', 'ME', 'MK', 'RS', 'SI', 'KR', 'BD', 'PK', 'LK', 'GH', 'KE', 'NG', 'TZ', 'UG', 'AG', 'AM', 'BS', 'BB', 'BZ', 'BT', 'BW', 'BF', 'CV', 'CW', 'DM', 'FJ', 'GM', 'GE', 'GD', 'GW', 'GY', 'HT', 'JM', 'KI', 'LS', 'LR', 'MW', 'MV', 'ML', 'MH', 'FM', 'NA', 'NR', 'NE', 'PW', 'PG', 'WS', 'SM', 'ST', 'SN', 'SC', 'SL', 'SB', 'KN', 'LC', 'VC', 'SR', 'TL', 'TO', 'TT', 'TV', 'VU', 'AZ', 'BN', 'BI', 'KH', 'CM', 'TD', 'KM', 'GQ', 'SZ', 'GA', 'GN', 'KG', 'LA', 'MO', 'MR', 'MN', 'NP', 'RW', 'TG', 'UZ', 'ZW', 'BJ', 'MG', 'MU', 'MZ', 'AO', 'CI', 'DJ', 'ZM', 'CD', 'CG', 'IQ', 'LY', 'TJ', 'VE', 'ET', 'XK'], 'external_urls': {'spotify': 'https://open.spotify.com/album/5yORmYtkTZdFgo6ppcsFZT'}, 'href': 'https://api.spotify.com/v1/albums/5yORmYtkTZdFgo6ppcsFZT', 'id': '5yORmYtkTZdFgo6ppcsFZT', 'images': [{'height': 640, 'url': 'https://i.scdn.co/image/ab67616d0000b2737d0fa81881e9313e77463eaa', 'width': 640}, {'height': 300, 'url': 'https://i.scdn.co/image/ab67616d00001e027d0fa81881e9313e77463eaa', 'width': 300}, {'height': 64, 'url': 'https://i.scdn.co/image/ab67616d000048517d0fa81881e9313e77463eaa', 'width': 64}], 'name': 'The Revival', 'release_date': '1990-01-01', 'release_date_precision': 'day', 'total_tracks': 14, 'type': 'album', 'uri': 'spotify:album:5yORmYtkTZdFgo6ppcsFZT'}, 'artists': [{'external_urls': {'spotify': 'https://open.spotify.com/artist/7vWlb4pM85jCHvV771qZZW'}, 'href': 'https://api.spotify.com/v1/artists/7vWlb4pM85jCHvV771qZZW', 'id': '7vWlb4pM85jCHvV771qZZW', 'name': 'Tony! Toni! Toné!', 'type': 'artist', 'uri': 'spotify:artist:7vWlb4pM85jCHvV771qZZW'}], 'available_markets': ['AR', 'AU', 'AT', 'BE', 'BO', 'BR', 'BG', 'CA', 'CL', 'CO', 'CR', 'CY', 'CZ', 'DK', 'DO', 'DE', 'EC', 'EE', 'SV', 'FI', 'FR', 'GR', 'GT', 'HN', 'HK', 'HU', 'IS', 'IE', 'IT', 'LV', 'LT', 'LU', 'MY', 'MT', 'MX', 'NL', 'NZ', 'NI', 'NO', 'PA', 'PY', 'PE', 'PH', 'PL', 'PT', 'SG', 'SK', 'ES', 'SE', 'CH', 'TW', 'TR', 'UY', 'US', 'GB', 'AD', 'LI', 'MC', 'ID', 'JP', 'TH', 'VN', 'RO', 'IL', 'ZA', 'SA', 'AE', 'BH', 'QA', 'OM', 'KW', 'EG', 'MA', 'DZ', 'TN', 'LB', 'JO', 'PS', 'IN', 'BY', 'KZ', 'MD', 'UA', 'AL', 'BA', 'HR', 'ME', 'MK', 'RS', 'SI', 'KR', 'BD', 'PK', 'LK', 'GH', 'KE', 'NG', 'TZ', 'UG', 'AG', 'AM', 'BS', 'BB', 'BZ', 'BT', 'BW', 'BF', 'CV', 'CW', 'DM', 'FJ', 'GM', 'GE', 'GD', 'GW', 'GY', 'HT', 'JM', 'KI', 'LS', 'LR', 'MW', 'MV', 'ML', 'MH', 'FM', 'NA', 'NR', 'NE', 'PW', 'PG', 'WS', 'SM', 'ST', 'SN', 'SC', 'SL', 'SB', 'KN', 'LC', 'VC', 'SR', 'TL', 'TO', 'TT', 'TV', 'VU', 'AZ', 'BN', 'BI', 'KH', 'CM', 'TD', 'KM', 'GQ', 'SZ', 'GA', 'GN', 'KG', 'LA', 'MO', 'MR', 'MN', 'NP', 'RW', 'TG', 'UZ', 'ZW', 'BJ', 'MG', 'MU', 'MZ', 'AO', 'CI', 'DJ', 'ZM', 'CD', 'CG', 'IQ', 'LY', 'TJ', 'VE', 'ET', 'XK'], 'disc_number': 1, 'duration_ms': 290933, 'explicit': False, 'external_ids': {'isrc': 'USMR19087282'}, 'external_urls': {'spotify': 'https://open.spotify.com/track/6yl6TMw87Nq0mWBQtw9muQ'}, 'href': 'https://api.spotify.com/v1/tracks/6yl6TMw87Nq0mWBQtw9muQ', 'id': '6yl6TMw87Nq0mWBQtw9muQ', 'is_local': False, 'name': 'Whatever You Want', 'popularity': 54, 'preview_url': None, 'track_number': 7, 'type': 'track', 'uri': 'spotify:track:6yl6TMw87Nq0mWBQtw9muQ'}, 'played_at': '2024-11-26T19:54:26.763Z', 'context': {'type': 'artist', 'external_urls': {'spotify': 'https://open.spotify.com/artist/7vWlb4pM85jCHvV771qZZW'}, 'href': 'https://api.spotify.com/v1/artists/7vWlb4pM85jCHvV771qZZW', 'uri': 'spotify:artist:7vWlb4pM85jCHvV771qZZW'}}, {'track': {'album': {'album_type': 'album', 'artists': [{'external_urls': {'spotify': 'https://open.spotify.com/artist/7vWlb4pM85jCHvV771qZZW'}, 'href': 'https://api.spotify.com/v1/artists/7vWlb4pM85jCHvV771qZZW', 'id': '7vWlb4pM85jCHvV771qZZW', 'name': 'Tony! Toni! Toné!', 'type': 'artist', 'uri': 'spotify:artist:7vWlb4pM85jCHvV771qZZW'}], 'available_markets': ['AR', 'AU', 'AT', 'BE', 'BO', 'BR', 'BG', 'CA', 'CL', 'CO', 'CR', 'CY', 'CZ', 'DK', 'DO', 'DE', 'EC', 'EE', 'SV', 'FI', 'FR', 'GR', 'GT', 'HN', 'HK', 'HU', 'IS', 'IE', 'IT', 'LV', 'LT', 'LU', 'MY', 'MT', 'MX', 'NL', 'NZ', 'NI', 'NO', 'PA', 'PY', 'PE', 'PH', 'PL', 'PT', 'SG', 'SK', 'ES', 'SE', 'CH', 'TW', 'TR', 'UY', 'US', 'GB', 'AD', 'LI', 'MC', 'ID', 'JP', 'TH', 'VN', 'RO', 'IL', 'ZA', 'SA', 'AE', 'BH', 'QA', 'OM', 'KW', 'EG', 'MA', 'DZ', 'TN', 'LB', 'JO', 'PS', 'IN', 'BY', 'KZ', 'MD', 'UA', 'AL', 'BA', 'HR', 'ME', 'MK', 'RS', 'SI', 'KR', 'BD', 'PK', 'LK', 'GH', 'KE', 'NG', 'TZ', 'UG', 'AG', 'AM', 'BS', 'BB', 'BZ', 'BT', 'BW', 'BF', 'CV', 'CW', 'DM', 'FJ', 'GM', 'GE', 'GD', 'GW', 'GY', 'HT', 'JM', 'KI', 'LS', 'LR', 'MW', 'MV', 'ML', 'MH', 'FM', 'NA', 'NR', 'NE', 'PW', 'PG', 'WS', 'SM', 'ST', 'SN', 'SC', 'SL', 'SB', 'KN', 'LC', 'VC', 'SR', 'TL', 'TO', 'TT', 'TV', 'VU', 'AZ', 'BN', 'BI', 'KH', 'CM', 'TD', 'KM', 'GQ', 'SZ', 'GA', 'GN', 'KG', 'LA', 'MO', 'MR', 'MN', 'NP', 'RW', 'TG', 'UZ', 'ZW', 'BJ', 'MG', 'MU', 'MZ', 'AO', 'CI', 'DJ', 'ZM', 'CD', 'CG', 'IQ', 'LY', 'TJ', 'VE', 'ET', 'XK'], 'external_urls': {'spotify': 'https://open.spotify.com/album/3I4ObAZqVRcENUqxwv10If'}, 'href': 'https://api.spotify.com/v1/albums/3I4ObAZqVRcENUqxwv10If', 'id': '3I4ObAZqVRcENUqxwv10If', 'images': [{'height': 640, 'url': 'https://i.scdn.co/image/ab67616d0000b27319d70a0d9bd346ae0f837c3d', 'width': 640}, {'height': 300, 'url': 'https://i.scdn.co/image/ab67616d00001e0219d70a0d9bd346ae0f837c3d', 'width': 300}, {'height': 64, 'url': 'https://i.scdn.co/image/ab67616d0000485119d70a0d9bd346ae0f837c3d', 'width': 64}], 'name': 'House Of Music', 'release_date': '1996-01-01', 'release_date_precision': 'day', 'total_tracks': 14, 'type': 'album', 'uri': 'spotify:album:3I4ObAZqVRcENUqxwv10If'}, 'artists': [{'external_urls': {'spotify': 'https://open.spotify.com/artist/7vWlb4pM85jCHvV771qZZW'}, 'href': 'https://api.spotify.com/v1/artists/7vWlb4pM85jCHvV771qZZW', 'id': '7vWlb4pM85jCHvV771qZZW', 'name': 'Tony! Toni! Toné!', 'type': 'artist', 'uri': 'spotify:artist:7vWlb4pM85jCHvV771qZZW'}, {'external_urls': {'spotify': 'https://open.spotify.com/artist/0b2XeWDPeBiLeskT6RFqMb'}, 'href': 'https://api.spotify.com/v1/artists/0b2XeWDPeBiLeskT6RFqMb', 'id': '0b2XeWDPeBiLeskT6RFqMb', 'name': 'DJ Quik', 'type': 'artist', 'uri': 'spotify:artist:0b2XeWDPeBiLeskT6RFqMb'}], 'available_markets': ['AR', 'AU', 'AT', 'BE', 'BO', 'BR', 'BG', 'CA', 'CL', 'CO', 'CR', 'CY', 'CZ', 'DK', 'DO', 'DE', 'EC', 'EE', 'SV', 'FI', 'FR', 'GR', 'GT', 'HN', 'HK', 'HU', 'IS', 'IE', 'IT', 'LV', 'LT', 'LU', 'MY', 'MT', 'MX', 'NL', 'NZ', 'NI', 'NO', 'PA', 'PY', 'PE', 'PH', 'PL', 'PT', 'SG', 'SK', 'ES', 'SE', 'CH', 'TW', 'TR', 'UY', 'US', 'GB', 'AD', 'LI', 'MC', 'ID', 'JP', 'TH', 'VN', 'RO', 'IL', 'ZA', 'SA', 'AE', 'BH', 'QA', 'OM', 'KW', 'EG', 'MA', 'DZ', 'TN', 'LB', 'JO', 'PS', 'IN', 'BY', 'KZ', 'MD', 'UA', 'AL', 'BA', 'HR', 'ME', 'MK', 'RS', 'SI', 'KR', 'BD', 'PK', 'LK', 'GH', 'KE', 'NG', 'TZ', 'UG', 'AG', 'AM', 'BS', 'BB', 'BZ', 'BT', 'BW', 'BF', 'CV', 'CW', 'DM', 'FJ', 'GM', 'GE', 'GD', 'GW', 'GY', 'HT', 'JM', 'KI', 'LS', 'LR', 'MW', 'MV', 'ML', 'MH', 'FM', 'NA', 'NR', 'NE', 'PW', 'PG', 'WS', 'SM', 'ST', 'SN', 'SC', 'SL', 'SB', 'KN', 'LC', 'VC', 'SR', 'TL', 'TO', 'TT', 'TV', 'VU', 'AZ', 'BN', 'BI', 'KH', 'CM', 'TD', 'KM', 'GQ', 'SZ', 'GA', 'GN', 'KG', 'LA', 'MO', 'MR', 'MN', 'NP', 'RW', 'TG', 'UZ', 'ZW', 'BJ', 'MG', 'MU', 'MZ', 'AO', 'CI', 'DJ', 'ZM', 'CD', 'CG', 'IQ', 'LY', 'TJ', 'VE', 'ET', 'XK'], 'disc_number': 1, 'duration_ms': 299506, 'explicit': False, 'external_ids': {'isrc': 'USPR39630319'}, 'external_urls': {'spotify': 'https://open.spotify.com/track/7qdo6JOOaaY9LadOAhfXq7'}, 'href': 'https://api.spotify.com/v1/tracks/7qdo6JOOaaY9LadOAhfXq7', 'id': '7qdo6JOOaaY9LadOAhfXq7', 'is_local': False, 'name': \"Let's Get Down\", 'popularity': 54, 'preview_url': None, 'track_number': 3, 'type': 'track', 'uri': 'spotify:track:7qdo6JOOaaY9LadOAhfXq7'}, 'played_at': '2024-11-26T19:47:20.829Z', 'context': {'type': 'artist', 'external_urls': {'spotify': 'https://open.spotify.com/artist/7vWlb4pM85jCHvV771qZZW'}, 'href': 'https://api.spotify.com/v1/artists/7vWlb4pM85jCHvV771qZZW', 'uri': 'spotify:artist:7vWlb4pM85jCHvV771qZZW'}}, {'track': {'album': {'album_type': 'album', 'artists': [{'external_urls': {'spotify': 'https://open.spotify.com/artist/7vWlb4pM85jCHvV771qZZW'}, 'href': 'https://api.spotify.com/v1/artists/7vWlb4pM85jCHvV771qZZW', 'id': '7vWlb4pM85jCHvV771qZZW', 'name': 'Tony! Toni! Toné!', 'type': 'artist', 'uri': 'spotify:artist:7vWlb4pM85jCHvV771qZZW'}], 'available_markets': ['AR', 'AU', 'AT', 'BE', 'BO', 'BR', 'BG', 'CA', 'CL', 'CO', 'CR', 'CY', 'CZ', 'DK', 'DO', 'DE', 'EC', 'EE', 'SV', 'FI', 'FR', 'GR', 'GT', 'HN', 'HK', 'HU', 'IS', 'IE', 'IT', 'LV', 'LT', 'LU', 'MY', 'MT', 'MX', 'NL', 'NZ', 'NI', 'NO', 'PA', 'PY', 'PE', 'PH', 'PL', 'PT', 'SG', 'SK', 'ES', 'SE', 'CH', 'TW', 'TR', 'UY', 'US', 'GB', 'AD', 'LI', 'MC', 'ID', 'JP', 'TH', 'VN', 'RO', 'IL', 'ZA', 'SA', 'AE', 'BH', 'QA', 'OM', 'KW', 'EG', 'MA', 'DZ', 'TN', 'LB', 'JO', 'PS', 'IN', 'BY', 'KZ', 'MD', 'UA', 'AL', 'BA', 'HR', 'ME', 'MK', 'RS', 'SI', 'KR', 'BD', 'PK', 'LK', 'GH', 'KE', 'NG', 'TZ', 'UG', 'AG', 'AM', 'BS', 'BB', 'BZ', 'BT', 'BW', 'BF', 'CV', 'CW', 'DM', 'FJ', 'GM', 'GE', 'GD', 'GW', 'GY', 'HT', 'JM', 'KI', 'LS', 'LR', 'MW', 'MV', 'ML', 'MH', 'FM', 'NA', 'NR', 'NE', 'PW', 'PG', 'WS', 'SM', 'ST', 'SN', 'SC', 'SL', 'SB', 'KN', 'LC', 'VC', 'SR', 'TL', 'TO', 'TT', 'TV', 'VU', 'AZ', 'BN', 'BI', 'KH', 'CM', 'TD', 'KM', 'GQ', 'SZ', 'GA', 'GN', 'KG', 'LA', 'MO', 'MR', 'MN', 'NP', 'RW', 'TG', 'UZ', 'ZW', 'BJ', 'MG', 'MU', 'MZ', 'AO', 'CI', 'DJ', 'ZM', 'CD', 'CG', 'IQ', 'LY', 'TJ', 'VE', 'ET', 'XK'], 'external_urls': {'spotify': 'https://open.spotify.com/album/1yoA6HcbdX23c4k0MXNq5g'}, 'href': 'https://api.spotify.com/v1/albums/1yoA6HcbdX23c4k0MXNq5g', 'id': '1yoA6HcbdX23c4k0MXNq5g', 'images': [{'height': 640, 'url': 'https://i.scdn.co/image/ab67616d0000b273cb5a6d8528fc220e892c2d1e', 'width': 640}, {'height': 300, 'url': 'https://i.scdn.co/image/ab67616d00001e02cb5a6d8528fc220e892c2d1e', 'width': 300}, {'height': 64, 'url': 'https://i.scdn.co/image/ab67616d00004851cb5a6d8528fc220e892c2d1e', 'width': 64}], 'name': 'Hits', 'release_date': '1997-01-01', 'release_date_precision': 'day', 'total_tracks': 15, 'type': 'album', 'uri': 'spotify:album:1yoA6HcbdX23c4k0MXNq5g'}, 'artists': [{'external_urls': {'spotify': 'https://open.spotify.com/artist/7vWlb4pM85jCHvV771qZZW'}, 'href': 'https://api.spotify.com/v1/artists/7vWlb4pM85jCHvV771qZZW', 'id': '7vWlb4pM85jCHvV771qZZW', 'name': 'Tony! Toni! Toné!', 'type': 'artist', 'uri': 'spotify:artist:7vWlb4pM85jCHvV771qZZW'}], 'available_markets': ['AR', 'AU', 'AT', 'BE', 'BO', 'BR', 'BG', 'CA', 'CL', 'CO', 'CR', 'CY', 'CZ', 'DK', 'DO', 'DE', 'EC', 'EE', 'SV', 'FI', 'FR', 'GR', 'GT', 'HN', 'HK', 'HU', 'IS', 'IE', 'IT', 'LV', 'LT', 'LU', 'MY', 'MT', 'MX', 'NL', 'NZ', 'NI', 'NO', 'PA', 'PY', 'PE', 'PH', 'PL', 'PT', 'SG', 'SK', 'ES', 'SE', 'CH', 'TW', 'TR', 'UY', 'US', 'GB', 'AD', 'LI', 'MC', 'ID', 'JP', 'TH', 'VN', 'RO', 'IL', 'ZA', 'SA', 'AE', 'BH', 'QA', 'OM', 'KW', 'EG', 'MA', 'DZ', 'TN', 'LB', 'JO', 'PS', 'IN', 'BY', 'KZ', 'MD', 'UA', 'AL', 'BA', 'HR', 'ME', 'MK', 'RS', 'SI', 'KR', 'BD', 'PK', 'LK', 'GH', 'KE', 'NG', 'TZ', 'UG', 'AG', 'AM', 'BS', 'BB', 'BZ', 'BT', 'BW', 'BF', 'CV', 'CW', 'DM', 'FJ', 'GM', 'GE', 'GD', 'GW', 'GY', 'HT', 'JM', 'KI', 'LS', 'LR', 'MW', 'MV', 'ML', 'MH', 'FM', 'NA', 'NR', 'NE', 'PW', 'PG', 'WS', 'SM', 'ST', 'SN', 'SC', 'SL', 'SB', 'KN', 'LC', 'VC', 'SR', 'TL', 'TO', 'TT', 'TV', 'VU', 'AZ', 'BN', 'BI', 'KH', 'CM', 'TD', 'KM', 'GQ', 'SZ', 'GA', 'GN', 'KG', 'LA', 'MO', 'MR', 'MN', 'NP', 'RW', 'TG', 'UZ', 'ZW', 'BJ', 'MG', 'MU', 'MZ', 'AO', 'CI', 'DJ', 'ZM', 'CD', 'CG', 'IQ', 'LY', 'TJ', 'VE', 'ET', 'XK'], 'disc_number': 1, 'duration_ms': 271200, 'explicit': False, 'external_ids': {'isrc': 'USMR19787279'}, 'external_urls': {'spotify': 'https://open.spotify.com/track/6PViGgcsQhLPSkMxgoRWLl'}, 'href': 'https://api.spotify.com/v1/tracks/6PViGgcsQhLPSkMxgoRWLl', 'id': '6PViGgcsQhLPSkMxgoRWLl', 'is_local': False, 'name': 'Anniversary', 'popularity': 57, 'preview_url': None, 'track_number': 8, 'type': 'track', 'uri': 'spotify:track:6PViGgcsQhLPSkMxgoRWLl'}, 'played_at': '2024-11-26T19:42:18.480Z', 'context': {'type': 'artist', 'external_urls': {'spotify': 'https://open.spotify.com/artist/7vWlb4pM85jCHvV771qZZW'}, 'href': 'https://api.spotify.com/v1/artists/7vWlb4pM85jCHvV771qZZW', 'uri': 'spotify:artist:7vWlb4pM85jCHvV771qZZW'}}, {'track': {'album': {'album_type': 'album', 'artists': [{'external_urls': {'spotify': 'https://open.spotify.com/artist/57LYzLEk2LcFghVwuWbcuS'}, 'href': 'https://api.spotify.com/v1/artists/57LYzLEk2LcFghVwuWbcuS', 'id': '57LYzLEk2LcFghVwuWbcuS', 'name': 'Summer Walker', 'type': 'artist', 'uri': 'spotify:artist:57LYzLEk2LcFghVwuWbcuS'}], 'available_markets': ['AR', 'AU', 'AT', 'BE', 'BO', 'BR', 'BG', 'CA', 'CL', 'CO', 'CR', 'CY', 'CZ', 'DK', 'DO', 'DE', 'EC', 'EE', 'SV', 'FI', 'FR', 'GR', 'GT', 'HN', 'HK', 'HU', 'IS', 'IE', 'IT', 'LV', 'LT', 'LU', 'MY', 'MT', 'MX', 'NL', 'NZ', 'NI', 'NO', 'PA', 'PY', 'PE', 'PH', 'PL', 'PT', 'SG', 'SK', 'ES', 'SE', 'CH', 'TW', 'TR', 'UY', 'US', 'GB', 'AD', 'LI', 'MC', 'ID', 'JP', 'TH', 'VN', 'RO', 'IL', 'ZA', 'SA', 'AE', 'BH', 'QA', 'OM', 'KW', 'EG', 'MA', 'DZ', 'TN', 'LB', 'JO', 'PS', 'IN', 'KZ', 'MD', 'UA', 'AL', 'BA', 'HR', 'ME', 'MK', 'RS', 'SI', 'KR', 'BD', 'PK', 'LK', 'GH', 'KE', 'NG', 'TZ', 'UG', 'AG', 'AM', 'BS', 'BB', 'BZ', 'BT', 'BW', 'CV', 'CW', 'DM', 'FJ', 'GM', 'GE', 'GD', 'GW', 'GY', 'HT', 'JM', 'KI', 'LS', 'LR', 'MW', 'MV', 'ML', 'MH', 'FM', 'NA', 'NR', 'NE', 'PW', 'PG', 'WS', 'SM', 'ST', 'SN', 'SC', 'SL', 'SB', 'KN', 'LC', 'VC', 'SR', 'TL', 'TO', 'TT', 'TV', 'VU', 'AZ', 'BI', 'KH', 'CM', 'TD', 'KM', 'GQ', 'SZ', 'GA', 'GN', 'KG', 'LA', 'MO', 'MR', 'MN', 'RW', 'TG', 'ZW', 'BJ', 'MG', 'MU', 'MZ', 'AO', 'CI', 'DJ', 'ZM', 'CD', 'CG', 'IQ', 'LY', 'TJ', 'VE', 'ET', 'XK'], 'external_urls': {'spotify': 'https://open.spotify.com/album/1qgJNWnPIeK9rx7hF8JCPK'}, 'href': 'https://api.spotify.com/v1/albums/1qgJNWnPIeK9rx7hF8JCPK', 'id': '1qgJNWnPIeK9rx7hF8JCPK', 'images': [{'height': 640, 'url': 'https://i.scdn.co/image/ab67616d0000b273b5ed9187ac7f8aa281a547e3', 'width': 640}, {'height': 300, 'url': 'https://i.scdn.co/image/ab67616d00001e02b5ed9187ac7f8aa281a547e3', 'width': 300}, {'height': 64, 'url': 'https://i.scdn.co/image/ab67616d00004851b5ed9187ac7f8aa281a547e3', 'width': 64}], 'name': 'Over It', 'release_date': '2019-10-04', 'release_date_precision': 'day', 'total_tracks': 18, 'type': 'album', 'uri': 'spotify:album:1qgJNWnPIeK9rx7hF8JCPK'}, 'artists': [{'external_urls': {'spotify': 'https://open.spotify.com/artist/57LYzLEk2LcFghVwuWbcuS'}, 'href': 'https://api.spotify.com/v1/artists/57LYzLEk2LcFghVwuWbcuS', 'id': '57LYzLEk2LcFghVwuWbcuS', 'name': 'Summer Walker', 'type': 'artist', 'uri': 'spotify:artist:57LYzLEk2LcFghVwuWbcuS'}, {'external_urls': {'spotify': 'https://open.spotify.com/artist/2EMAnMvWE2eb56ToJVfCWs'}, 'href': 'https://api.spotify.com/v1/artists/2EMAnMvWE2eb56ToJVfCWs', 'id': '2EMAnMvWE2eb56ToJVfCWs', 'name': 'Bryson Tiller', 'type': 'artist', 'uri': 'spotify:artist:2EMAnMvWE2eb56ToJVfCWs'}], 'available_markets': ['AR', 'AU', 'AT', 'BE', 'BO', 'BR', 'BG', 'CA', 'CL', 'CO', 'CR', 'CY', 'CZ', 'DK', 'DO', 'DE', 'EC', 'EE', 'SV', 'FI', 'FR', 'GR', 'GT', 'HN', 'HK', 'HU', 'IS', 'IE', 'IT', 'LV', 'LT', 'LU', 'MY', 'MT', 'MX', 'NL', 'NZ', 'NI', 'NO', 'PA', 'PY', 'PE', 'PH', 'PL', 'PT', 'SG', 'SK', 'ES', 'SE', 'CH', 'TW', 'TR', 'UY', 'US', 'GB', 'AD', 'LI', 'MC', 'ID', 'JP', 'TH', 'VN', 'RO', 'IL', 'ZA', 'SA', 'AE', 'BH', 'QA', 'OM', 'KW', 'EG', 'MA', 'DZ', 'TN', 'LB', 'JO', 'PS', 'IN', 'KZ', 'MD', 'UA', 'AL', 'BA', 'HR', 'ME', 'MK', 'RS', 'SI', 'KR', 'BD', 'PK', 'LK', 'GH', 'KE', 'NG', 'TZ', 'UG', 'AG', 'AM', 'BS', 'BB', 'BZ', 'BT', 'BW', 'CV', 'CW', 'DM', 'FJ', 'GM', 'GE', 'GD', 'GW', 'GY', 'HT', 'JM', 'KI', 'LS', 'LR', 'MW', 'MV', 'ML', 'MH', 'FM', 'NA', 'NR', 'NE', 'PW', 'PG', 'WS', 'SM', 'ST', 'SN', 'SC', 'SL', 'SB', 'KN', 'LC', 'VC', 'SR', 'TL', 'TO', 'TT', 'TV', 'VU', 'AZ', 'BI', 'KH', 'CM', 'TD', 'KM', 'GQ', 'SZ', 'GA', 'GN', 'KG', 'LA', 'MO', 'MR', 'MN', 'RW', 'TG', 'ZW', 'BJ', 'MG', 'MU', 'MZ', 'AO', 'CI', 'DJ', 'ZM', 'CD', 'CG', 'IQ', 'LY', 'TJ', 'VE', 'ET', 'XK'], 'disc_number': 1, 'duration_ms': 143226, 'explicit': True, 'external_ids': {'isrc': 'USUM71919639'}, 'external_urls': {'spotify': 'https://open.spotify.com/track/2xyx0o4xNOLLjBSbOOdcbA'}, 'href': 'https://api.spotify.com/v1/tracks/2xyx0o4xNOLLjBSbOOdcbA', 'id': '2xyx0o4xNOLLjBSbOOdcbA', 'is_local': False, 'name': 'Playing Games (with Bryson Tiller) - Extended Version', 'popularity': 75, 'preview_url': None, 'track_number': 3, 'type': 'track', 'uri': 'spotify:track:2xyx0o4xNOLLjBSbOOdcbA'}, 'played_at': '2024-11-26T19:36:28.838Z', 'context': {'type': 'artist', 'external_urls': {'spotify': 'https://open.spotify.com/artist/2EMAnMvWE2eb56ToJVfCWs'}, 'href': 'https://api.spotify.com/v1/artists/2EMAnMvWE2eb56ToJVfCWs', 'uri': 'spotify:artist:2EMAnMvWE2eb56ToJVfCWs'}}], 'next': 'https://api.spotify.com/v1/me/player/recently-played?before=1732649788838&limit=5', 'cursors': {'after': '1732654764669', 'before': '1732649788838'}, 'limit': 5, 'href': 'https://api.spotify.com/v1/me/player/recently-played?limit=5'}\n"
     ]
    }
   ],
   "source": [
    "print (recent)"
   ]
  },
  {
   "cell_type": "code",
   "execution_count": 33,
   "metadata": {},
   "outputs": [
    {
     "ename": "NameError",
     "evalue": "name 'sqlite3' is not defined",
     "output_type": "error",
     "traceback": [
      "\u001b[0;31m---------------------------------------------------------------------------\u001b[0m",
      "\u001b[0;31mNameError\u001b[0m                                 Traceback (most recent call last)",
      "Cell \u001b[0;32mIn[33], line 2\u001b[0m\n\u001b[1;32m      1\u001b[0m \u001b[38;5;66;03m# Connect to SQLite database\u001b[39;00m\n\u001b[0;32m----> 2\u001b[0m conn \u001b[38;5;241m=\u001b[39m \u001b[43msqlite3\u001b[49m\u001b[38;5;241m.\u001b[39mconnect(\u001b[38;5;124m'\u001b[39m\u001b[38;5;124mmusic_weather.db\u001b[39m\u001b[38;5;124m'\u001b[39m)\n\u001b[1;32m      3\u001b[0m cur \u001b[38;5;241m=\u001b[39m conn\u001b[38;5;241m.\u001b[39mcursor()\n",
      "\u001b[0;31mNameError\u001b[0m: name 'sqlite3' is not defined"
     ]
    }
   ],
   "source": [
    "# Connect to SQLite database\n",
    "conn = sqlite3.connect('music_weather.db')\n",
    "cur = conn.cursor()\n"
   ]
  },
  {
   "cell_type": "code",
   "execution_count": 34,
   "metadata": {},
   "outputs": [
    {
     "ename": "NameError",
     "evalue": "name 'cur' is not defined",
     "output_type": "error",
     "traceback": [
      "\u001b[0;31m---------------------------------------------------------------------------\u001b[0m",
      "\u001b[0;31mNameError\u001b[0m                                 Traceback (most recent call last)",
      "Cell \u001b[0;32mIn[34], line 2\u001b[0m\n\u001b[1;32m      1\u001b[0m \u001b[38;5;66;03m# Create tables\u001b[39;00m\n\u001b[0;32m----> 2\u001b[0m \u001b[43mcur\u001b[49m\u001b[38;5;241m.\u001b[39mexecute(\u001b[38;5;124m'''\u001b[39m\n\u001b[1;32m      3\u001b[0m \u001b[38;5;124mCREATE TABLE IF NOT EXISTS SpotifyTracks (\u001b[39m\n\u001b[1;32m      4\u001b[0m \u001b[38;5;124m    id INTEGER PRIMARY KEY AUTOINCREMENT,\u001b[39m\n\u001b[1;32m      5\u001b[0m \u001b[38;5;124m    track_name TEXT,\u001b[39m\n\u001b[1;32m      6\u001b[0m \u001b[38;5;124m    artist TEXT,\u001b[39m\n\u001b[1;32m      7\u001b[0m \u001b[38;5;124m    album TEXT,\u001b[39m\n\u001b[1;32m      8\u001b[0m \u001b[38;5;124m    played_at INTEGER,\u001b[39m\n\u001b[1;32m      9\u001b[0m \u001b[38;5;124m    duration_ms INTEGER\u001b[39m\n\u001b[1;32m     10\u001b[0m \u001b[38;5;124m)\u001b[39m\n\u001b[1;32m     11\u001b[0m \u001b[38;5;124m'''\u001b[39m)\n",
      "\u001b[0;31mNameError\u001b[0m: name 'cur' is not defined"
     ]
    }
   ],
   "source": [
    "# Create tables\n",
    "cur.execute('''\n",
    "CREATE TABLE IF NOT EXISTS SpotifyTracks (\n",
    "    id INTEGER PRIMARY KEY AUTOINCREMENT,\n",
    "    track_name TEXT,\n",
    "    artist TEXT,\n",
    "    album TEXT,\n",
    "    played_at INTEGER,\n",
    "    duration_ms INTEGER\n",
    ")\n",
    "''')\n"
   ]
  },
  {
   "cell_type": "code",
   "execution_count": 35,
   "metadata": {},
   "outputs": [
    {
     "ename": "NameError",
     "evalue": "name 'time' is not defined",
     "output_type": "error",
     "traceback": [
      "\u001b[0;31m---------------------------------------------------------------------------\u001b[0m",
      "\u001b[0;31mNameError\u001b[0m                                 Traceback (most recent call last)",
      "Cell \u001b[0;32mIn[35], line 21\u001b[0m\n\u001b[1;32m     18\u001b[0m     conn\u001b[38;5;241m.\u001b[39mcommit()\n\u001b[1;32m     20\u001b[0m \u001b[38;5;66;03m# Fetch and store Spotify data\u001b[39;00m\n\u001b[0;32m---> 21\u001b[0m \u001b[43mfetch_spotify_tracks\u001b[49m\u001b[43m(\u001b[49m\u001b[43m)\u001b[49m\n",
      "Cell \u001b[0;32mIn[35], line 9\u001b[0m, in \u001b[0;36mfetch_spotify_tracks\u001b[0;34m()\u001b[0m\n\u001b[1;32m      7\u001b[0m artist \u001b[38;5;241m=\u001b[39m track[\u001b[38;5;124m'\u001b[39m\u001b[38;5;124martists\u001b[39m\u001b[38;5;124m'\u001b[39m][\u001b[38;5;241m0\u001b[39m][\u001b[38;5;124m'\u001b[39m\u001b[38;5;124mname\u001b[39m\u001b[38;5;124m'\u001b[39m]\n\u001b[1;32m      8\u001b[0m album \u001b[38;5;241m=\u001b[39m track[\u001b[38;5;124m'\u001b[39m\u001b[38;5;124malbum\u001b[39m\u001b[38;5;124m'\u001b[39m][\u001b[38;5;124m'\u001b[39m\u001b[38;5;124mname\u001b[39m\u001b[38;5;124m'\u001b[39m]\n\u001b[0;32m----> 9\u001b[0m played_at \u001b[38;5;241m=\u001b[39m \u001b[38;5;28mint\u001b[39m(\u001b[43mtime\u001b[49m\u001b[38;5;241m.\u001b[39mmktime(time\u001b[38;5;241m.\u001b[39mstrptime(item[\u001b[38;5;124m'\u001b[39m\u001b[38;5;124mplayed_at\u001b[39m\u001b[38;5;124m'\u001b[39m][:\u001b[38;5;241m19\u001b[39m], \u001b[38;5;124m\"\u001b[39m\u001b[38;5;124m%\u001b[39m\u001b[38;5;124mY-\u001b[39m\u001b[38;5;124m%\u001b[39m\u001b[38;5;124mm-\u001b[39m\u001b[38;5;132;01m%d\u001b[39;00m\u001b[38;5;124mT\u001b[39m\u001b[38;5;124m%\u001b[39m\u001b[38;5;124mH:\u001b[39m\u001b[38;5;124m%\u001b[39m\u001b[38;5;124mM:\u001b[39m\u001b[38;5;124m%\u001b[39m\u001b[38;5;124mS\u001b[39m\u001b[38;5;124m\"\u001b[39m)))\n\u001b[1;32m     10\u001b[0m duration_ms \u001b[38;5;241m=\u001b[39m track[\u001b[38;5;124m'\u001b[39m\u001b[38;5;124mduration_ms\u001b[39m\u001b[38;5;124m'\u001b[39m]\n\u001b[1;32m     12\u001b[0m \u001b[38;5;66;03m# Insert into database\u001b[39;00m\n",
      "\u001b[0;31mNameError\u001b[0m: name 'time' is not defined"
     ]
    }
   ],
   "source": [
    "# Function to fetch and store recently played tracks\n",
    "def fetch_spotify_tracks():\n",
    "    recent_tracks = sp.current_user_recently_played(limit=25)\n",
    "    for item in recent_tracks['items']:\n",
    "        track = item['track']\n",
    "        track_name = track['name']\n",
    "        artist = track['artists'][0]['name']\n",
    "        album = track['album']['name']\n",
    "        played_at = int(time.mktime(time.strptime(item['played_at'][:19], \"%Y-%m-%dT%H:%M:%S\")))\n",
    "        duration_ms = track['duration_ms']\n",
    "\n",
    "        # Insert into database\n",
    "        cur.execute('''\n",
    "        INSERT INTO SpotifyTracks (track_name, artist, album, played_at, duration_ms)\n",
    "        VALUES (?, ?, ?, ?, ?)\n",
    "        ''', (track_name, artist, album, played_at, duration_ms))\n",
    "\n",
    "    conn.commit()\n",
    "\n",
    "# Fetch and store Spotify data\n",
    "fetch_spotify_tracks()"
   ]
  }
 ],
 "metadata": {
  "kernelspec": {
   "display_name": "Python 3",
   "language": "python",
   "name": "python3"
  },
  "language_info": {
   "codemirror_mode": {
    "name": "ipython",
    "version": 3
   },
   "file_extension": ".py",
   "mimetype": "text/x-python",
   "name": "python",
   "nbconvert_exporter": "python",
   "pygments_lexer": "ipython3",
   "version": "3.9.6"
  }
 },
 "nbformat": 4,
 "nbformat_minor": 2
}
